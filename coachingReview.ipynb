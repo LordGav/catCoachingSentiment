{
 "cells": [
  {
   "cell_type": "code",
   "execution_count": 204,
   "id": "7679910b",
   "metadata": {},
   "outputs": [],
   "source": [
    "import tabula\n",
    "import pandas as pd\n",
    "from collections import Counter\n",
    "from textblob import TextBlob\n",
    "pd.set_option('display.max_columns', None)\n",
    "pd.set_option('display.expand_frame_repr', False)\n",
    "pd.set_option('max_colwidth', 1000)"
   ]
  },
  {
   "cell_type": "code",
   "execution_count": 205,
   "id": "7d27ffae",
   "metadata": {},
   "outputs": [],
   "source": [
    "df = tabula.read_pdf(r\"D:\\CAT\\Coaching Review\\MBA Coaching Survey Results.pdf\", pages = \"all\", lattice=True, encoding = 'cp1252', silent =True)"
   ]
  },
  {
   "cell_type": "code",
   "execution_count": 206,
   "id": "b3a965ab",
   "metadata": {
    "scrolled": true
   },
   "outputs": [],
   "source": [
    "df = pd.concat(df, ignore_index=True, axis=0)"
   ]
  },
  {
   "cell_type": "code",
   "execution_count": 207,
   "id": "a75cebd0",
   "metadata": {},
   "outputs": [
    {
     "data": {
      "text/html": [
       "<div>\n",
       "<style scoped>\n",
       "    .dataframe tbody tr th:only-of-type {\n",
       "        vertical-align: middle;\n",
       "    }\n",
       "\n",
       "    .dataframe tbody tr th {\n",
       "        vertical-align: top;\n",
       "    }\n",
       "\n",
       "    .dataframe thead th {\n",
       "        text-align: right;\n",
       "    }\n",
       "</style>\n",
       "<table border=\"1\" class=\"dataframe\">\n",
       "  <thead>\n",
       "    <tr style=\"text-align: right;\">\n",
       "      <th></th>\n",
       "      <th>Coaching</th>\n",
       "      <th>Online/Offline</th>\n",
       "      <th>Which City\\r(Offline)</th>\n",
       "      <th>Fee\\r(INR)</th>\n",
       "      <th>Duration</th>\n",
       "      <th>Your Honest Feedback</th>\n",
       "    </tr>\n",
       "  </thead>\n",
       "  <tbody>\n",
       "    <tr>\n",
       "      <th>688</th>\n",
       "      <td>Unacadem\\ry plus</td>\n",
       "      <td>Online</td>\n",
       "      <td>NA</td>\n",
       "      <td>11500\\rfor 12\\rmonth\\rs with\\rthe\\rhelp of\\rcomba\\rt\\rscholar\\r's</td>\n",
       "      <td>12\\rmonths</td>\n",
       "      <td>The quality of teaching is best</td>\n",
       "    </tr>\n",
       "    <tr>\n",
       "      <th>689</th>\n",
       "      <td>Unacadem\\ry, TIME</td>\n",
       "      <td>Online</td>\n",
       "      <td>Pune\\r(Kothrud\\rbranch)</td>\n",
       "      <td>41000\\r(TIME)\\r+\\r33000\\r(Unaca\\rdemy)</td>\n",
       "      <td>TIME-3\\rmonths</td>\n",
       "      <td>TIME - Faculty is good but schedule is too hastey. Less no. of classes allotted to\\rimportant topics of LR and Quant. Less practice sessions.\\rUnacademy - Too many faculties. Confused to choose faculties. Schedule is vague.\\rTESTs can be better. Only ebooks.</td>\n",
       "    </tr>\n",
       "    <tr>\n",
       "      <th>690</th>\n",
       "      <td>Unacedam\\ry</td>\n",
       "      <td>Online</td>\n",
       "      <td>NA</td>\n",
       "      <td>18500</td>\n",
       "      <td>14month\\rs</td>\n",
       "      <td>Everything is at par..... from strategy sessions , classes , to mocks and there analysis ...\\reverything is superb ...yet the quantity of mocks if low but it's enough for a serious cat\\raspirant ...</td>\n",
       "    </tr>\n",
       "    <tr>\n",
       "      <th>691</th>\n",
       "      <td>Unacedem\\ry</td>\n",
       "      <td>Online</td>\n",
       "      <td>NA</td>\n",
       "      <td>18000</td>\n",
       "      <td>2 year</td>\n",
       "      <td>It's very good coaching institute</td>\n",
       "    </tr>\n",
       "    <tr>\n",
       "      <th>692</th>\n",
       "      <td>Varishth</td>\n",
       "      <td>Offline</td>\n",
       "      <td>indore</td>\n",
       "      <td>32000</td>\n",
       "      <td>1 year</td>\n",
       "      <td>Honestly in coaching they didn't teach us specifically for cat ...their que. Level is very low\\rbecause their is combine class of all competitive exams and entrance exam so i am not\\rsatisfied with that so i leave my coaching and now i am doing self study</td>\n",
       "    </tr>\n",
       "  </tbody>\n",
       "</table>\n",
       "</div>"
      ],
      "text/plain": [
       "              Coaching Online/Offline    Which City\\r(Offline)                                                         Fee\\r(INR)        Duration                                                                                                                                                                                                                                                Your Honest Feedback\n",
       "688   Unacadem\\ry plus         Online                       NA  11500\\rfor 12\\rmonth\\rs with\\rthe\\rhelp of\\rcomba\\rt\\rscholar\\r's      12\\rmonths                                                                                                                                                                                                                                     The quality of teaching is best\n",
       "689  Unacadem\\ry, TIME         Online  Pune\\r(Kothrud\\rbranch)                             41000\\r(TIME)\\r+\\r33000\\r(Unaca\\rdemy)  TIME-3\\rmonths  TIME - Faculty is good but schedule is too hastey. Less no. of classes allotted to\\rimportant topics of LR and Quant. Less practice sessions.\\rUnacademy - Too many faculties. Confused to choose faculties. Schedule is vague.\\rTESTs can be better. Only ebooks.\n",
       "690        Unacedam\\ry         Online                       NA                                                              18500      14month\\rs                                                              Everything is at par..... from strategy sessions , classes , to mocks and there analysis ...\\reverything is superb ...yet the quantity of mocks if low but it's enough for a serious cat\\raspirant ...\n",
       "691        Unacedem\\ry         Online                       NA                                                              18000          2 year                                                                                                                                                                                                                                   It's very good coaching institute\n",
       "692           Varishth        Offline                   indore                                                              32000          1 year     Honestly in coaching they didn't teach us specifically for cat ...their que. Level is very low\\rbecause their is combine class of all competitive exams and entrance exam so i am not\\rsatisfied with that so i leave my coaching and now i am doing self study"
      ]
     },
     "execution_count": 207,
     "metadata": {},
     "output_type": "execute_result"
    }
   ],
   "source": [
    "df.tail()"
   ]
  },
  {
   "cell_type": "code",
   "execution_count": 208,
   "id": "50b8c03b",
   "metadata": {},
   "outputs": [],
   "source": [
    "df = df[['Coaching', 'Your Honest Feedback']]"
   ]
  },
  {
   "cell_type": "code",
   "execution_count": 209,
   "id": "bfa0f241",
   "metadata": {},
   "outputs": [],
   "source": [
    "def textProcessing(string):\n",
    "    _ = string.replace('\\r', ' ')\n",
    "    _ = _.lower()\n",
    "    _ = _.split(\" \")\n",
    "    return(_[0])"
   ]
  },
  {
   "cell_type": "code",
   "execution_count": 210,
   "id": "29229dbf",
   "metadata": {},
   "outputs": [
    {
     "data": {
      "text/html": [
       "<div>\n",
       "<style scoped>\n",
       "    .dataframe tbody tr th:only-of-type {\n",
       "        vertical-align: middle;\n",
       "    }\n",
       "\n",
       "    .dataframe tbody tr th {\n",
       "        vertical-align: top;\n",
       "    }\n",
       "\n",
       "    .dataframe thead th {\n",
       "        text-align: right;\n",
       "    }\n",
       "</style>\n",
       "<table border=\"1\" class=\"dataframe\">\n",
       "  <thead>\n",
       "    <tr style=\"text-align: right;\">\n",
       "      <th></th>\n",
       "      <th>Coaching</th>\n",
       "      <th>Your Honest Feedback</th>\n",
       "    </tr>\n",
       "  </thead>\n",
       "  <tbody>\n",
       "    <tr>\n",
       "      <th>688</th>\n",
       "      <td>Unacadem\\ry plus</td>\n",
       "      <td>The quality of teaching is best</td>\n",
       "    </tr>\n",
       "    <tr>\n",
       "      <th>689</th>\n",
       "      <td>Unacadem\\ry, TIME</td>\n",
       "      <td>TIME - Faculty is good but schedule is too hastey. Less no. of classes allotted to\\rimportant topics of LR and Quant. Less practice sessions.\\rUnacademy - Too many faculties. Confused to choose faculties. Schedule is vague.\\rTESTs can be better. Only ebooks.</td>\n",
       "    </tr>\n",
       "    <tr>\n",
       "      <th>690</th>\n",
       "      <td>Unacedam\\ry</td>\n",
       "      <td>Everything is at par..... from strategy sessions , classes , to mocks and there analysis ...\\reverything is superb ...yet the quantity of mocks if low but it's enough for a serious cat\\raspirant ...</td>\n",
       "    </tr>\n",
       "    <tr>\n",
       "      <th>691</th>\n",
       "      <td>Unacedem\\ry</td>\n",
       "      <td>It's very good coaching institute</td>\n",
       "    </tr>\n",
       "    <tr>\n",
       "      <th>692</th>\n",
       "      <td>Varishth</td>\n",
       "      <td>Honestly in coaching they didn't teach us specifically for cat ...their que. Level is very low\\rbecause their is combine class of all competitive exams and entrance exam so i am not\\rsatisfied with that so i leave my coaching and now i am doing self study</td>\n",
       "    </tr>\n",
       "  </tbody>\n",
       "</table>\n",
       "</div>"
      ],
      "text/plain": [
       "              Coaching                                                                                                                                                                                                                                                Your Honest Feedback\n",
       "688   Unacadem\\ry plus                                                                                                                                                                                                                                     The quality of teaching is best\n",
       "689  Unacadem\\ry, TIME  TIME - Faculty is good but schedule is too hastey. Less no. of classes allotted to\\rimportant topics of LR and Quant. Less practice sessions.\\rUnacademy - Too many faculties. Confused to choose faculties. Schedule is vague.\\rTESTs can be better. Only ebooks.\n",
       "690        Unacedam\\ry                                                              Everything is at par..... from strategy sessions , classes , to mocks and there analysis ...\\reverything is superb ...yet the quantity of mocks if low but it's enough for a serious cat\\raspirant ...\n",
       "691        Unacedem\\ry                                                                                                                                                                                                                                   It's very good coaching institute\n",
       "692           Varishth     Honestly in coaching they didn't teach us specifically for cat ...their que. Level is very low\\rbecause their is combine class of all competitive exams and entrance exam so i am not\\rsatisfied with that so i leave my coaching and now i am doing self study"
      ]
     },
     "execution_count": 210,
     "metadata": {},
     "output_type": "execute_result"
    }
   ],
   "source": [
    "df.tail()"
   ]
  },
  {
   "cell_type": "code",
   "execution_count": 211,
   "id": "cad0068a",
   "metadata": {},
   "outputs": [
    {
     "data": {
      "text/html": [
       "<div>\n",
       "<style scoped>\n",
       "    .dataframe tbody tr th:only-of-type {\n",
       "        vertical-align: middle;\n",
       "    }\n",
       "\n",
       "    .dataframe tbody tr th {\n",
       "        vertical-align: top;\n",
       "    }\n",
       "\n",
       "    .dataframe thead th {\n",
       "        text-align: right;\n",
       "    }\n",
       "</style>\n",
       "<table border=\"1\" class=\"dataframe\">\n",
       "  <thead>\n",
       "    <tr style=\"text-align: right;\">\n",
       "      <th></th>\n",
       "      <th>Coaching</th>\n",
       "      <th>Your Honest Feedback</th>\n",
       "    </tr>\n",
       "  </thead>\n",
       "  <tbody>\n",
       "    <tr>\n",
       "      <th>688</th>\n",
       "      <td>unacadem</td>\n",
       "      <td>The quality of teaching is best</td>\n",
       "    </tr>\n",
       "    <tr>\n",
       "      <th>689</th>\n",
       "      <td>unacadem</td>\n",
       "      <td>TIME - Faculty is good but schedule is too hastey. Less no. of classes allotted to\\rimportant topics of LR and Quant. Less practice sessions.\\rUnacademy - Too many faculties. Confused to choose faculties. Schedule is vague.\\rTESTs can be better. Only ebooks.</td>\n",
       "    </tr>\n",
       "    <tr>\n",
       "      <th>690</th>\n",
       "      <td>unacedam</td>\n",
       "      <td>Everything is at par..... from strategy sessions , classes , to mocks and there analysis ...\\reverything is superb ...yet the quantity of mocks if low but it's enough for a serious cat\\raspirant ...</td>\n",
       "    </tr>\n",
       "    <tr>\n",
       "      <th>691</th>\n",
       "      <td>unacedem</td>\n",
       "      <td>It's very good coaching institute</td>\n",
       "    </tr>\n",
       "    <tr>\n",
       "      <th>692</th>\n",
       "      <td>varishth</td>\n",
       "      <td>Honestly in coaching they didn't teach us specifically for cat ...their que. Level is very low\\rbecause their is combine class of all competitive exams and entrance exam so i am not\\rsatisfied with that so i leave my coaching and now i am doing self study</td>\n",
       "    </tr>\n",
       "  </tbody>\n",
       "</table>\n",
       "</div>"
      ],
      "text/plain": [
       "     Coaching                                                                                                                                                                                                                                                Your Honest Feedback\n",
       "688  unacadem                                                                                                                                                                                                                                     The quality of teaching is best\n",
       "689  unacadem  TIME - Faculty is good but schedule is too hastey. Less no. of classes allotted to\\rimportant topics of LR and Quant. Less practice sessions.\\rUnacademy - Too many faculties. Confused to choose faculties. Schedule is vague.\\rTESTs can be better. Only ebooks.\n",
       "690  unacedam                                                              Everything is at par..... from strategy sessions , classes , to mocks and there analysis ...\\reverything is superb ...yet the quantity of mocks if low but it's enough for a serious cat\\raspirant ...\n",
       "691  unacedem                                                                                                                                                                                                                                   It's very good coaching institute\n",
       "692  varishth     Honestly in coaching they didn't teach us specifically for cat ...their que. Level is very low\\rbecause their is combine class of all competitive exams and entrance exam so i am not\\rsatisfied with that so i leave my coaching and now i am doing self study"
      ]
     },
     "execution_count": 211,
     "metadata": {},
     "output_type": "execute_result"
    }
   ],
   "source": [
    "df['Coaching'] = df['Coaching'].apply(textProcessing)\n",
    "df.tail()"
   ]
  },
  {
   "cell_type": "code",
   "execution_count": 212,
   "id": "21627542",
   "metadata": {},
   "outputs": [],
   "source": [
    "coachingList = pd.DataFrame.from_dict(Counter(list(df['Coaching'])), orient='index').reset_index()\n",
    "coachingList.columns = ['coaching', 'number of reviews']"
   ]
  },
  {
   "cell_type": "code",
   "execution_count": 213,
   "id": "1f9e0cab",
   "metadata": {},
   "outputs": [],
   "source": [
    "def sentiment(string):\n",
    "    blob = TextBlob(str(df[df[\"Coaching\"]  == string]['Your Honest Feedback']))\n",
    "    sentiment = blob.sentiment.polarity\n",
    "    return sentiment"
   ]
  },
  {
   "cell_type": "code",
   "execution_count": 214,
   "id": "d3c32de1",
   "metadata": {
    "scrolled": true
   },
   "outputs": [],
   "source": [
    "coachingList['sentiment'] = coachingList['coaching'].apply(sentiment)"
   ]
  },
  {
   "cell_type": "code",
   "execution_count": 215,
   "id": "c04ddaa8",
   "metadata": {
    "scrolled": true
   },
   "outputs": [
    {
     "data": {
      "text/html": [
       "<div>\n",
       "<style scoped>\n",
       "    .dataframe tbody tr th:only-of-type {\n",
       "        vertical-align: middle;\n",
       "    }\n",
       "\n",
       "    .dataframe tbody tr th {\n",
       "        vertical-align: top;\n",
       "    }\n",
       "\n",
       "    .dataframe thead th {\n",
       "        text-align: right;\n",
       "    }\n",
       "</style>\n",
       "<table border=\"1\" class=\"dataframe\">\n",
       "  <thead>\n",
       "    <tr style=\"text-align: right;\">\n",
       "      <th></th>\n",
       "      <th>coaching</th>\n",
       "      <th>number of reviews</th>\n",
       "      <th>sentiment</th>\n",
       "    </tr>\n",
       "  </thead>\n",
       "  <tbody>\n",
       "    <tr>\n",
       "      <th>56</th>\n",
       "      <td>time</td>\n",
       "      <td>149</td>\n",
       "      <td>0.228312</td>\n",
       "    </tr>\n",
       "    <tr>\n",
       "      <th>33</th>\n",
       "      <td>ims</td>\n",
       "      <td>90</td>\n",
       "      <td>0.258303</td>\n",
       "    </tr>\n",
       "    <tr>\n",
       "      <th>59</th>\n",
       "      <td>unacadem</td>\n",
       "      <td>89</td>\n",
       "      <td>0.364552</td>\n",
       "    </tr>\n",
       "    <tr>\n",
       "      <th>11</th>\n",
       "      <td>catking</td>\n",
       "      <td>66</td>\n",
       "      <td>0.294840</td>\n",
       "    </tr>\n",
       "    <tr>\n",
       "      <th>48</th>\n",
       "      <td>studybuzz</td>\n",
       "      <td>54</td>\n",
       "      <td>0.366865</td>\n",
       "    </tr>\n",
       "    <tr>\n",
       "      <th>22</th>\n",
       "      <td>elites</td>\n",
       "      <td>42</td>\n",
       "      <td>0.284087</td>\n",
       "    </tr>\n",
       "    <tr>\n",
       "      <th>10</th>\n",
       "      <td>career</td>\n",
       "      <td>40</td>\n",
       "      <td>0.237232</td>\n",
       "    </tr>\n",
       "    <tr>\n",
       "      <th>15</th>\n",
       "      <td>cracku</td>\n",
       "      <td>17</td>\n",
       "      <td>0.316413</td>\n",
       "    </tr>\n",
       "    <tr>\n",
       "      <th>9</th>\n",
       "      <td>c2c</td>\n",
       "      <td>14</td>\n",
       "      <td>0.334036</td>\n",
       "    </tr>\n",
       "    <tr>\n",
       "      <th>34</th>\n",
       "      <td>iquanta</td>\n",
       "      <td>12</td>\n",
       "      <td>0.324807</td>\n",
       "    </tr>\n",
       "  </tbody>\n",
       "</table>\n",
       "</div>"
      ],
      "text/plain": [
       "     coaching  number of reviews  sentiment\n",
       "56       time                149   0.228312\n",
       "33        ims                 90   0.258303\n",
       "59   unacadem                 89   0.364552\n",
       "11    catking                 66   0.294840\n",
       "48  studybuzz                 54   0.366865\n",
       "22     elites                 42   0.284087\n",
       "10     career                 40   0.237232\n",
       "15     cracku                 17   0.316413\n",
       "9         c2c                 14   0.334036\n",
       "34    iquanta                 12   0.324807"
      ]
     },
     "execution_count": 215,
     "metadata": {},
     "output_type": "execute_result"
    }
   ],
   "source": [
    "coachingList.sort_values(by=\"number of reviews\", ascending=False).head(10)"
   ]
  },
  {
   "cell_type": "code",
   "execution_count": null,
   "id": "cfb967a9",
   "metadata": {},
   "outputs": [],
   "source": []
  }
 ],
 "metadata": {
  "kernelspec": {
   "display_name": "Python 3 (ipykernel)",
   "language": "python",
   "name": "python3"
  },
  "language_info": {
   "codemirror_mode": {
    "name": "ipython",
    "version": 3
   },
   "file_extension": ".py",
   "mimetype": "text/x-python",
   "name": "python",
   "nbconvert_exporter": "python",
   "pygments_lexer": "ipython3",
   "version": "3.9.13"
  }
 },
 "nbformat": 4,
 "nbformat_minor": 5
}
